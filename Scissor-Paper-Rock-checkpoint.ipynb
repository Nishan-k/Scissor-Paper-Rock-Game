{
 "cells": [
  {
   "cell_type": "code",
   "execution_count": 67,
   "id": "8bb3e0b6",
   "metadata": {},
   "outputs": [],
   "source": [
    "import random"
   ]
  },
  {
   "cell_type": "code",
   "execution_count": 72,
   "id": "8be18fd2",
   "metadata": {},
   "outputs": [],
   "source": [
    "rock = '''\n",
    "    _______\n",
    "---'   ____)\n",
    "      (_____)\n",
    "      (_____)\n",
    "      (____)\n",
    "---.__(___)\n",
    "'''\n",
    "\n",
    "paper = '''\n",
    "    _______\n",
    "---'   ____)____\n",
    "          ______)\n",
    "          _______)\n",
    "         _______)\n",
    "---.__________)\n",
    "'''\n",
    "\n",
    "scissor = '''\n",
    "    _______\n",
    "---'   ____)____\n",
    "          ______)\n",
    "       __________)\n",
    "      (____)\n",
    "---.__(___)\n",
    "'''\n"
   ]
  },
  {
   "cell_type": "code",
   "execution_count": 123,
   "id": "2523e486",
   "metadata": {},
   "outputs": [
    {
     "name": "stdout",
     "output_type": "stream",
     "text": [
      "What do you want to choose? 0-Rock, 1-Paper, 2-Scissor:  5\n",
      "Please choose the correct option: 0-Rock, 1-Paper, 2-Scissor\n"
     ]
    }
   ],
   "source": [
    "items = ['rock','paper','scissor']\n",
    "    \n",
    "\n",
    "user_choice = int(input(\"What do you want to choose? 0-Rock, 1-Paper, 2-Scissor:  \"))\n",
    "computer = items[random.randint(0, len(items)-1)]\n",
    "\n",
    "\n",
    "if user_choice > len(items)-1:\n",
    "    print(\"Please choose the correct option: 0-Rock, 1-Paper, 2-Scissor\")\n",
    "else:\n",
    "    user_choice = items[user_choice]\n",
    "    if user_choice == 'rock':\n",
    "        if computer == 'scissor':\n",
    "            print(f\"You choose:\\n{rock}\\n Computer choose:\\n{scissor}\\n You've WON !!\")\n",
    "        elif computer == 'paper':\n",
    "            print(f\"You choose:\\n{rock}\\n Computer choose:\\n{paper}\\n You've LOST !!\")\n",
    "        elif computer == 'rock':\n",
    "            print(f\"You choose:\\n{rock}\\n Computer choose:\\n{rock}\\n It's a DRAW !!\")\n",
    "    elif user_choice == 'paper':\n",
    "        if computer == 'rock':\n",
    "            print(f\"You choose:\\n{paper}\\n Computer choose:\\n{rock}\\n You've WON !!\")\n",
    "        elif computer == 'scissor':\n",
    "            print(f\"You choose:\\n{paper}\\n Computer choose:\\n{scissor}\\n You've LOST !!\")\n",
    "        elif computer == 'paper':\n",
    "            print(f\"You choose:\\n{paper}\\n Computer choose:\\n{paper}\\n It's a DRAW !!\")\n",
    "    elif user_choice == 'scissor':\n",
    "        if computer == 'rock':\n",
    "            print(f\"You choose:\\n{scissor}\\n Computer choose:\\n{rock}\\n You've LOST !!\")\n",
    "        elif computer == 'scissor':\n",
    "            print(f\"You choose:\\n{scissor}\\n Computer choose:\\n{scissor}\\n It's a DRAW !!\")\n",
    "        elif computer == 'paper':\n",
    "            print(f\"You choose:\\n{scissor}\\n Computer choose:\\n{paper}\\n You've WON !!\")\n",
    "\n"
   ]
  },
  {
   "cell_type": "code",
   "execution_count": null,
   "id": "0d1e3b14",
   "metadata": {},
   "outputs": [],
   "source": []
  },
  {
   "cell_type": "code",
   "execution_count": null,
   "id": "67c9f38a",
   "metadata": {},
   "outputs": [],
   "source": []
  },
  {
   "cell_type": "code",
   "execution_count": null,
   "id": "e48ebaa9",
   "metadata": {},
   "outputs": [],
   "source": []
  },
  {
   "cell_type": "code",
   "execution_count": null,
   "id": "ca182f84",
   "metadata": {},
   "outputs": [],
   "source": []
  },
  {
   "cell_type": "code",
   "execution_count": null,
   "id": "667d6053",
   "metadata": {},
   "outputs": [],
   "source": []
  },
  {
   "cell_type": "code",
   "execution_count": null,
   "id": "751eb089",
   "metadata": {},
   "outputs": [],
   "source": []
  },
  {
   "cell_type": "code",
   "execution_count": null,
   "id": "81536995",
   "metadata": {},
   "outputs": [],
   "source": []
  },
  {
   "cell_type": "code",
   "execution_count": null,
   "id": "bef0d5d3",
   "metadata": {},
   "outputs": [],
   "source": []
  },
  {
   "cell_type": "code",
   "execution_count": null,
   "id": "c93fa6d6",
   "metadata": {},
   "outputs": [],
   "source": []
  },
  {
   "cell_type": "code",
   "execution_count": null,
   "id": "194c9040",
   "metadata": {},
   "outputs": [],
   "source": []
  }
 ],
 "metadata": {
  "kernelspec": {
   "display_name": "Python 3 (ipykernel)",
   "language": "python",
   "name": "python3"
  },
  "language_info": {
   "codemirror_mode": {
    "name": "ipython",
    "version": 3
   },
   "file_extension": ".py",
   "mimetype": "text/x-python",
   "name": "python",
   "nbconvert_exporter": "python",
   "pygments_lexer": "ipython3",
   "version": "3.9.7"
  }
 },
 "nbformat": 4,
 "nbformat_minor": 5
}
